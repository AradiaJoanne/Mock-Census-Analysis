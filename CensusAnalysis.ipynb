{
 "cells": [
  {
   "cell_type": "markdown",
   "metadata": {},
   "source": [
    "# Analysis of Hypothetical Census Data"
   ]
  },
  {
   "cell_type": "markdown",
   "metadata": {},
   "source": []
  },
  {
   "cell_type": "markdown",
   "metadata": {},
   "source": [
    "<b>Introduction:</b>\n",
    "This notebook will consist of 4 seperate parts:<br>\n",
    "-Reading in the data file<br>\n",
    "-Cleaning the data and ensuring that it is usable<br>\n",
    "-Visualizing the data so that it can be understood easier and used in both the presentation and the report<br>\n",
    "-Analysing the data and making predictions on what is expected within the data<br>"
   ]
  },
  {
   "cell_type": "markdown",
   "metadata": {},
   "source": [
    "First libraries will be imported for use in the project "
   ]
  },
  {
   "cell_type": "code",
   "execution_count": 1,
   "metadata": {},
   "outputs": [],
   "source": [
    "import pandas as pd\n",
    "import seaborn as sns\n",
    "import itertools \n",
    "from word2number import w2n "
   ]
  },
  {
   "cell_type": "markdown",
   "metadata": {},
   "source": [
    "## Step One - Reading in the data file:\n",
    "Here the file is read in using pandas and assigned to a variable so that changes are not being made to the file and there is no unecassary opening and closing of the file. "
   ]
  },
  {
   "cell_type": "code",
   "execution_count": 2,
   "metadata": {},
   "outputs": [],
   "source": [
    "censusData = pd.read_csv('CensusN5.csv')"
   ]
  },
  {
   "cell_type": "markdown",
   "metadata": {},
   "source": [
    "## Step Two - Cleaning the Data\n",
    "This part consists of multiple steps to ensure that the data is usable and valid and there are no misisng values in any of the data. "
   ]
  },
  {
   "cell_type": "markdown",
   "metadata": {},
   "source": [
    "It makes sense to first check how many missing values are in the data, so it can be understood what needs to be done."
   ]
  },
  {
   "cell_type": "code",
   "execution_count": 3,
   "metadata": {},
   "outputs": [
    {
     "data": {
      "text/plain": [
       "Surname              6\n",
       "Marital Status    1910\n",
       "Religion          2120\n",
       "dtype: int64"
      ]
     },
     "execution_count": 3,
     "metadata": {},
     "output_type": "execute_result"
    }
   ],
   "source": [
    "#Find any columns with missing and null values, this also includes any filled with NA so this will need to be changed\n",
    "columsWMissing = censusData.columns[censusData.isnull().any()]\n",
    "censusData[columsWMissing].isnull().sum()"
   ]
  },
  {
   "cell_type": "markdown",
   "metadata": {},
   "source": [
    "The above cell outputs Surname - 6, Marital Status - 1910, Religion - 2120<br>\n",
    "Further checks will need to be done on Marital Status and Religion as N/A is a valid answer for this column, so it needs to be checked for values that are incorrect and not N/A. \n",
    "NA is not valid for Surname so this can be looked at and resolved first. "
   ]
  },
  {
   "cell_type": "markdown",
   "metadata": {},
   "source": [
    "<b>Correcting Surnames</b>"
   ]
  },
  {
   "cell_type": "code",
   "execution_count": 4,
   "metadata": {},
   "outputs": [
    {
     "data": {
      "text/html": [
       "<div>\n",
       "<style scoped>\n",
       "    .dataframe tbody tr th:only-of-type {\n",
       "        vertical-align: middle;\n",
       "    }\n",
       "\n",
       "    .dataframe tbody tr th {\n",
       "        vertical-align: top;\n",
       "    }\n",
       "\n",
       "    .dataframe thead th {\n",
       "        text-align: right;\n",
       "    }\n",
       "</style>\n",
       "<table border=\"1\" class=\"dataframe\">\n",
       "  <thead>\n",
       "    <tr style=\"text-align: right;\">\n",
       "      <th></th>\n",
       "      <th>House Number</th>\n",
       "      <th>Street</th>\n",
       "      <th>First Name</th>\n",
       "      <th>Surname</th>\n",
       "      <th>Age</th>\n",
       "      <th>Relationship to Head of House</th>\n",
       "      <th>Marital Status</th>\n",
       "      <th>Gender</th>\n",
       "      <th>Occupation</th>\n",
       "      <th>Infirmity</th>\n",
       "      <th>Religion</th>\n",
       "    </tr>\n",
       "  </thead>\n",
       "  <tbody>\n",
       "    <tr>\n",
       "      <th>3375</th>\n",
       "      <td>19</td>\n",
       "      <td>Dolphin Road</td>\n",
       "      <td>Brett Ford</td>\n",
       "      <td>NaN</td>\n",
       "      <td>24</td>\n",
       "      <td>Partner</td>\n",
       "      <td>Single</td>\n",
       "      <td>Male</td>\n",
       "      <td>Legal secretary</td>\n",
       "      <td>None</td>\n",
       "      <td>Septheism</td>\n",
       "    </tr>\n",
       "    <tr>\n",
       "      <th>4110</th>\n",
       "      <td>7</td>\n",
       "      <td>February Ridge</td>\n",
       "      <td>Joyce Frost</td>\n",
       "      <td>NaN</td>\n",
       "      <td>96</td>\n",
       "      <td>Head</td>\n",
       "      <td>Married</td>\n",
       "      <td>Female</td>\n",
       "      <td>Retired Conservator, museum/gallery</td>\n",
       "      <td>None</td>\n",
       "      <td>Triangulism</td>\n",
       "    </tr>\n",
       "    <tr>\n",
       "      <th>4111</th>\n",
       "      <td>7</td>\n",
       "      <td>February Ridge</td>\n",
       "      <td>Ashley Frost</td>\n",
       "      <td>NaN</td>\n",
       "      <td>93</td>\n",
       "      <td>Husband</td>\n",
       "      <td>Married</td>\n",
       "      <td>Male</td>\n",
       "      <td>Retired Advertising account planner</td>\n",
       "      <td>None</td>\n",
       "      <td>None</td>\n",
       "    </tr>\n",
       "    <tr>\n",
       "      <th>4540</th>\n",
       "      <td>8</td>\n",
       "      <td>Landings Road</td>\n",
       "      <td>Lydia Parry</td>\n",
       "      <td>NaN</td>\n",
       "      <td>25</td>\n",
       "      <td>None</td>\n",
       "      <td>Single</td>\n",
       "      <td>Female</td>\n",
       "      <td>Biochemist, clinical</td>\n",
       "      <td>None</td>\n",
       "      <td>Intramystical</td>\n",
       "    </tr>\n",
       "    <tr>\n",
       "      <th>6068</th>\n",
       "      <td>70</td>\n",
       "      <td>Lisbonbraid Street</td>\n",
       "      <td>Frances Smith</td>\n",
       "      <td>NaN</td>\n",
       "      <td>73</td>\n",
       "      <td>Head</td>\n",
       "      <td>Widowed</td>\n",
       "      <td>Female</td>\n",
       "      <td>Retired General practice doctor</td>\n",
       "      <td>None</td>\n",
       "      <td>Utheism</td>\n",
       "    </tr>\n",
       "    <tr>\n",
       "      <th>7707</th>\n",
       "      <td>2</td>\n",
       "      <td>Truro Common</td>\n",
       "      <td>Henry Harding</td>\n",
       "      <td>NaN</td>\n",
       "      <td>83</td>\n",
       "      <td>Head</td>\n",
       "      <td>Widowed</td>\n",
       "      <td>Male</td>\n",
       "      <td>Retired Teacher, adult education</td>\n",
       "      <td>None</td>\n",
       "      <td>None</td>\n",
       "    </tr>\n",
       "  </tbody>\n",
       "</table>\n",
       "</div>"
      ],
      "text/plain": [
       "     House Number              Street     First Name Surname Age  \\\n",
       "3375           19        Dolphin Road     Brett Ford     NaN  24   \n",
       "4110            7      February Ridge    Joyce Frost     NaN  96   \n",
       "4111            7      February Ridge   Ashley Frost     NaN  93   \n",
       "4540            8       Landings Road    Lydia Parry     NaN  25   \n",
       "6068           70  Lisbonbraid Street  Frances Smith     NaN  73   \n",
       "7707            2        Truro Common  Henry Harding     NaN  83   \n",
       "\n",
       "     Relationship to Head of House Marital Status  Gender  \\\n",
       "3375                       Partner         Single    Male   \n",
       "4110                          Head        Married  Female   \n",
       "4111                       Husband        Married    Male   \n",
       "4540                          None         Single  Female   \n",
       "6068                          Head        Widowed  Female   \n",
       "7707                          Head        Widowed    Male   \n",
       "\n",
       "                               Occupation Infirmity       Religion  \n",
       "3375                      Legal secretary      None      Septheism  \n",
       "4110  Retired Conservator, museum/gallery      None    Triangulism  \n",
       "4111  Retired Advertising account planner      None           None  \n",
       "4540                 Biochemist, clinical      None  Intramystical  \n",
       "6068      Retired General practice doctor      None        Utheism  \n",
       "7707     Retired Teacher, adult education      None           None  "
      ]
     },
     "execution_count": 4,
     "metadata": {},
     "output_type": "execute_result"
    }
   ],
   "source": [
    "#Show the records with the missing surname\n",
    "censusData[censusData['Surname'].isnull()]"
   ]
  },
  {
   "cell_type": "markdown",
   "metadata": {},
   "source": [
    "Because the surname is in the first name box it is just a case of splitting the string in that column into two parts, storing it in a list and then putting the correct part of the split name into the respective column. "
   ]
  },
  {
   "cell_type": "code",
   "execution_count": 5,
   "metadata": {},
   "outputs": [],
   "source": [
    "for index, rows in enumerate(censusData[censusData['Surname'].isnull()].iterrows()): #Iterate through\n",
    "    splitNames = rows[1]['First Name'].split() #Split the string in first names\n",
    "    savedIndex = rows[0]\n",
    "    censusData['First Name'].iloc[savedIndex] = splitNames[0] #Update the value of first name at the first index of incorrect\n",
    "    censusData['Surname'].iloc[savedIndex] = splitNames[1] #Update the surname"
   ]
  },
  {
   "cell_type": "markdown",
   "metadata": {},
   "source": [
    "<b>Class for converting to the correct data types</b>"
   ]
  },
  {
   "cell_type": "markdown",
   "metadata": {},
   "source": [
    "Contains functions for converting data to an int, float, string and to lower case"
   ]
  },
  {
   "cell_type": "code",
   "execution_count": 6,
   "metadata": {},
   "outputs": [],
   "source": [
    "class conversion():\n",
    "    def convertToInt(dataFrame, columnName):\n",
    "        for i in range(len(dataFrame)):\n",
    "            try:\n",
    "                #Try and cast to an int\n",
    "                dataFrame[columnName][i] = int(dataFrame[columnName][i])\n",
    "            except:\n",
    "                #if it fails show the row it has failed on so a decision can be made on what to do with it \n",
    "                problematicRows.append(i)\n",
    "                print(f'ERROR IN DATA ON ROW: {i}')\n",
    "                print(f'PROBLEMATIC ROW IS: \\n {dataFrame.iloc[i]}')\n",
    "                \n",
    "                #Check for first and last item in dataframe so not trying to check out of index range\n",
    "                if i == len(dataFrame) -1:\n",
    "                    print(f'NO ROW AFTER THIS, ROW BEFORE IS: \\n {dataFrame.iloc[i-1]}')\n",
    "                if i == 0:\n",
    "                    print(f'NO ROW BEFORE, ROW AFTER IS: \\n {dataFrame.iloc[i+1]}')\n",
    "                else: \n",
    "                    print(f'ROW BEFORE IS: \\n {dataFrame.iloc[i-1]}')\n",
    "                    print(f'ROW AFTER IS: \\n {dataFrame.iloc[i+1]}')\n",
    "        return problematicRows #In case it is need to delete rows or manually update them\n",
    "\n",
    "    #Try to convert to a float\n",
    "    def convertToFloat(dataFrame, columnName):\n",
    "        for i in range(len(dataFrame)):\n",
    "            try:\n",
    "                dataFrame[columnName][i] = float(dataFrame[columnName][i])\n",
    "            except:\n",
    "                problematicRows.append(i)\n",
    "                print(dataFrame.iloc[i])\n",
    "        print(f'NUMBER OF ERRORS: {len(problematicRows)}')\n",
    "        return problematicRows\n",
    "    \n",
    "    #try to convert to a string\n",
    "    def convertToString(dataFrame, columnName):\n",
    "        for i in range (len(dataFrame)):\n",
    "            try:\n",
    "                dataFrame[columnName][i] = str(dataFrame[columnName][i])\n",
    "            except: \n",
    "                problematicRows.append(i)\n",
    "        print(f'NUMBER OF ERRORS: {len(problematicRows)}')\n",
    "        return problematicRows\n",
    "    \n",
    "    #Convert to Lower\n",
    "    def convertToLower(dataFrame, columnName):\n",
    "        for i in range(len(dataFrame)):\n",
    "            dataFrame[columnName][i] = dataFrame[columnName][i].lower()"
   ]
  },
  {
   "cell_type": "markdown",
   "metadata": {},
   "source": [
    "<b>House Numbers</b>"
   ]
  },
  {
   "cell_type": "code",
   "execution_count": 7,
   "metadata": {},
   "outputs": [
    {
     "name": "stdout",
     "output_type": "stream",
     "text": [
      "ERROR IN DATA ON ROW: 6573\n",
      "PROBLEMATIC ROW IS: \n",
      " House Number                                     \n",
      "Street                              Cancer Avenue\n",
      "First Name                                   Lucy\n",
      "Surname                                      John\n",
      "Age                                            65\n",
      "Relationship to Head of House                Head\n",
      "Marital Status                            Married\n",
      "Gender                                     Female\n",
      "Occupation                       Marine scientist\n",
      "Infirmity                                    None\n",
      "Religion                              Triangulism\n",
      "Name: 6573, dtype: object\n",
      "ROW BEFORE IS: \n",
      " House Number                                     29\n",
      "Street                                Cancer Avenue\n",
      "First Name                                  Gillian\n",
      "Surname                                      Holmes\n",
      "Age                                              20\n",
      "Relationship to Head of House                  Head\n",
      "Marital Status                               Single\n",
      "Gender                                       Female\n",
      "Occupation                       University Student\n",
      "Infirmity                                      None\n",
      "Religion                                       None\n",
      "Name: 6572, dtype: object\n",
      "ROW AFTER IS: \n",
      " House Number                                    30\n",
      "Street                               Cancer Avenue\n",
      "First Name                                  Howard\n",
      "Surname                                       John\n",
      "Age                                             61\n",
      "Relationship to Head of House              Husband\n",
      "Marital Status                             Married\n",
      "Gender                                        Male\n",
      "Occupation                       Therapist, sports\n",
      "Infirmity                                     None\n",
      "Religion                               Triangulism\n",
      "Name: 6574, dtype: object\n",
      "ERROR IN DATA ON ROW: 6940\n",
      "PROBLEMATIC ROW IS: \n",
      " House Number                                                  \n",
      "Street                                           Albans Avenue\n",
      "First Name                                               Helen\n",
      "Surname                                              Macdonald\n",
      "Age                                                         77\n",
      "Relationship to Head of House                             Wife\n",
      "Marital Status                                         Married\n",
      "Gender                                                  Female\n",
      "Occupation                       Retired Clinical embryologist\n",
      "Infirmity                                                 None\n",
      "Religion                                                  None\n",
      "Name: 6940, dtype: object\n",
      "ROW BEFORE IS: \n",
      " House Number                                                        57\n",
      "Street                                                   Albans Avenue\n",
      "First Name                                                        Eric\n",
      "Surname                                                      Macdonald\n",
      "Age                                                                 84\n",
      "Relationship to Head of House                                     Head\n",
      "Marital Status                                                 Married\n",
      "Gender                                                            Male\n",
      "Occupation                       Retired Clothing/textile technologist\n",
      "Infirmity                                                         None\n",
      "Religion                                                          None\n",
      "Name: 6939, dtype: object\n",
      "ROW AFTER IS: \n",
      " House Number                                              58\n",
      "Street                                         Albans Avenue\n",
      "First Name                                            Elaine\n",
      "Surname                                                White\n",
      "Age                                                       85\n",
      "Relationship to Head of House                           Head\n",
      "Marital Status                                       Widowed\n",
      "Gender                                                Female\n",
      "Occupation                       Retired Corporate treasurer\n",
      "Infirmity                                               None\n",
      "Religion                                       Intramystical\n",
      "Name: 6941, dtype: object\n"
     ]
    },
    {
     "data": {
      "text/plain": [
       "[6573, 6940]"
      ]
     },
     "execution_count": 7,
     "metadata": {},
     "output_type": "execute_result"
    }
   ],
   "source": [
    "#Try and convert the house numbers to also check for missing values\n",
    "problematicRows = []\n",
    "conversion.convertToInt(censusData, 'House Number')"
   ]
  },
  {
   "cell_type": "markdown",
   "metadata": {},
   "source": [
    "Because there are only are only two people with no house number, from looking at the data records before and after they can be corrected manually."
   ]
  },
  {
   "cell_type": "code",
   "execution_count": 8,
   "metadata": {},
   "outputs": [
    {
     "name": "stdout",
     "output_type": "stream",
     "text": [
      "[6573, 6940]\n"
     ]
    },
    {
     "data": {
      "text/plain": [
       "[]"
      ]
     },
     "execution_count": 8,
     "metadata": {},
     "output_type": "execute_result"
    }
   ],
   "source": [
    "#Check the indexes of the missing values\n",
    "print(problematicRows)\n",
    "#Correct the missing values\n",
    "censusData['House Number'][problematicRows[0]] = '30'\n",
    "censusData['House Number'][problematicRows[1]] = '57'\n",
    "problematicRows = []\n",
    "#Empty problematic rows as done using it for this purpose \n",
    "#Try and convert it again to check that the errors have been resolved and to convert the inserted values\n",
    "conversion.convertToInt(censusData, 'House Number')"
   ]
  },
  {
   "cell_type": "markdown",
   "metadata": {},
   "source": [
    "<b>Ages</b>"
   ]
  },
  {
   "cell_type": "code",
   "execution_count": 9,
   "metadata": {},
   "outputs": [
    {
     "name": "stdout",
     "output_type": "stream",
     "text": [
      "House Number                                  39\n",
      "Street                           Collins Prairie\n",
      "First Name                              Clifford\n",
      "Surname                                     Hill\n",
      "Age                                        Seven\n",
      "Relationship to Head of House                Son\n",
      "Marital Status                               NaN\n",
      "Gender                                      Male\n",
      "Occupation                               Student\n",
      "Infirmity                                   None\n",
      "Religion                                     NaN\n",
      "Name: 237, dtype: object\n",
      "House Number                                    17\n",
      "Street                           Henderson Mission\n",
      "First Name                                 Dorothy\n",
      "Surname                                      Davis\n",
      "Age                                           Zero\n",
      "Relationship to Head of House             Daughter\n",
      "Marital Status                                 NaN\n",
      "Gender                                      Female\n",
      "Occupation                                   Child\n",
      "Infirmity                                     None\n",
      "Religion                                       NaN\n",
      "Name: 7298, dtype: object\n",
      "House Number                                    17\n",
      "Street                           Henderson Mission\n",
      "First Name                                    Sian\n",
      "Surname                                      Davis\n",
      "Age                                           Zero\n",
      "Relationship to Head of House             Daughter\n",
      "Marital Status                                 NaN\n",
      "Gender                                      Female\n",
      "Occupation                                   Child\n",
      "Infirmity                                     None\n",
      "Religion                                       NaN\n",
      "Name: 7299, dtype: object\n",
      "NUMBER OF ERRORS: 3\n",
      "House Number                                  39\n",
      "Street                           Collins Prairie\n",
      "First Name                              Clifford\n",
      "Surname                                     Hill\n",
      "Age                                        Seven\n",
      "Relationship to Head of House                Son\n",
      "Marital Status                               NaN\n",
      "Gender                                      Male\n",
      "Occupation                               Student\n",
      "Infirmity                                   None\n",
      "Religion                                     NaN\n",
      "Name: 237, dtype: object\n",
      "House Number                                    17\n",
      "Street                           Henderson Mission\n",
      "First Name                                 Dorothy\n",
      "Surname                                      Davis\n",
      "Age                                           Zero\n",
      "Relationship to Head of House             Daughter\n",
      "Marital Status                                 NaN\n",
      "Gender                                      Female\n",
      "Occupation                                   Child\n",
      "Infirmity                                     None\n",
      "Religion                                       NaN\n",
      "Name: 7298, dtype: object\n",
      "House Number                                    17\n",
      "Street                           Henderson Mission\n",
      "First Name                                    Sian\n",
      "Surname                                      Davis\n",
      "Age                                           Zero\n",
      "Relationship to Head of House             Daughter\n",
      "Marital Status                                 NaN\n",
      "Gender                                      Female\n",
      "Occupation                                   Child\n",
      "Infirmity                                     None\n",
      "Religion                                       NaN\n",
      "Name: 7299, dtype: object\n"
     ]
    }
   ],
   "source": [
    "#Try and convert the ages to a float\n",
    "problematicRows = []\n",
    "problematicRows = conversion.convertToFloat(censusData,'Age')\n",
    "for i in range(len(problematicRows)):\n",
    "    print(censusData.iloc[problematicRows[i]])\n",
    "    #brings up 3 errors that have text as the age instead of a numeric value \n",
    "    #use w2n to convert the ages as words to numberic\n",
    "    censusData['Age'][problematicRows[i]] = w2n.word_to_num(censusData['Age'][problematicRows[i]])"
   ]
  },
  {
   "cell_type": "code",
   "execution_count": 10,
   "metadata": {},
   "outputs": [
    {
     "name": "stdout",
     "output_type": "stream",
     "text": [
      "NUMBER OF ERRORS: 0\n"
     ]
    },
    {
     "data": {
      "text/html": [
       "<div>\n",
       "<style scoped>\n",
       "    .dataframe tbody tr th:only-of-type {\n",
       "        vertical-align: middle;\n",
       "    }\n",
       "\n",
       "    .dataframe tbody tr th {\n",
       "        vertical-align: top;\n",
       "    }\n",
       "\n",
       "    .dataframe thead th {\n",
       "        text-align: right;\n",
       "    }\n",
       "</style>\n",
       "<table border=\"1\" class=\"dataframe\">\n",
       "  <thead>\n",
       "    <tr style=\"text-align: right;\">\n",
       "      <th></th>\n",
       "      <th>House Number</th>\n",
       "      <th>Street</th>\n",
       "      <th>First Name</th>\n",
       "      <th>Surname</th>\n",
       "      <th>Age</th>\n",
       "      <th>Relationship to Head of House</th>\n",
       "      <th>Marital Status</th>\n",
       "      <th>Gender</th>\n",
       "      <th>Occupation</th>\n",
       "      <th>Infirmity</th>\n",
       "      <th>Religion</th>\n",
       "    </tr>\n",
       "  </thead>\n",
       "  <tbody>\n",
       "  </tbody>\n",
       "</table>\n",
       "</div>"
      ],
      "text/plain": [
       "Empty DataFrame\n",
       "Columns: [House Number, Street, First Name, Surname, Age, Relationship to Head of House, Marital Status, Gender, Occupation, Infirmity, Religion]\n",
       "Index: []"
      ]
     },
     "execution_count": 10,
     "metadata": {},
     "output_type": "execute_result"
    }
   ],
   "source": [
    "#try and convert again to check the correction has worked\n",
    "problematicRows = []\n",
    "conversion.convertToFloat(censusData, 'Age')\n",
    "#Check age in sensible range\n",
    "censusData[censusData['Age']>=120]\n",
    "censusData[censusData['Age']< 0]"
   ]
  },
  {
   "cell_type": "markdown",
   "metadata": {},
   "source": [
    "<b>Marital Status</b>"
   ]
  },
  {
   "cell_type": "code",
   "execution_count": 11,
   "metadata": {},
   "outputs": [
    {
     "name": "stdout",
     "output_type": "stream",
     "text": [
      "['Single' 'Not Applicable' 'Married' 'Divorced' 'Widowed' \"Don't Ask\"\n",
      " 'Div-orced']\n",
      "1\n",
      "0    Single\n",
      "dtype: object\n",
      "['Single' 'Not Applicable' 'Married' 'Divorced' 'Widowed']\n"
     ]
    },
    {
     "data": {
      "image/png": "[encoded data removed]",
      "text/plain": [
       "<Figure size 360x360 with 1 Axes>"
      ]
     },
     "metadata": {
      "needs_background": "light"
     },
     "output_type": "display_data"
    },
    {
     "data": {
      "image/png": "[encoded data removed]",
      "text/plain": [
       "<Figure size 360x360 with 1 Axes>"
      ]
     },
     "metadata": {
      "needs_background": "light"
     },
     "output_type": "display_data"
    }
   ],
   "source": [
    "#Fill NA values with Not Applicable so they are not read as NaN by python\n",
    "censusData['Marital Status'].fillna(\"Not Applicable\", inplace = True)\n",
    "#Create a Before graph for presentation \n",
    "maritalBefore = sns.displot(censusData, x = 'Marital Status')\n",
    "maritalBefore.savefig('./MaritalStatusBefore.png')\n",
    "\n",
    "#Check for empty strings\n",
    "censusData[censusData['Marital Status'] =='']\n",
    "censusData[censusData['Marital Status'] ==' ']\n",
    "#There are 2 people who have filled Marital Status with a blank space\n",
    "\n",
    "#Updating them to 'Not Applicable' as if they didn't fill it out then it is not applicable\n",
    "#This seems like a reasonable step as they should have been caught earlier by the .fillna\n",
    "censusData['Marital Status'][1032] = 'Not Applicable'\n",
    "censusData['Marital Status'][2309] = 'Not Applicable'\n",
    "\n",
    "#Next check if everyone under the age of 16 has not applicable as their marital status\n",
    "maritalStatusNotNA = censusData[~censusData['Marital Status'].str.contains('Not Applicable')]\n",
    "maritalStatusNotNA[maritalStatusNotNA['Age'] < 16]\n",
    "\n",
    "#Check that the marital status' are reasonable\n",
    "print(censusData['Marital Status'].unique()) #Don't Ask, and Div-orced need dealing with\n",
    "\n",
    "#Correct MaritalStatus \n",
    "censusData['Marital Status'].replace('Div-orced', 'Divorced', inplace = True)\n",
    "#Only one person has don't ask\n",
    "count = censusData['Marital Status'] == \"Don't Ask\"\n",
    "print(count.sum())\n",
    "#Replace it with the most common occuring status\n",
    "print(censusData['Marital Status'].mode())\n",
    "censusData['Marital Status'].replace(\"Don't Ask\", 'Single', inplace = True)\n",
    "#Check if correct\n",
    "print(censusData['Marital Status'].unique())\n",
    "conversion.convertToLower(censusData, 'Marital Status')\n",
    "\n",
    "maritalAfter = sns.displot(censusData, x = 'Marital Status')\n",
    "maritalAfter.savefig('./MaritalStatusAfter.png')\n",
    "\n"
   ]
  },
  {
   "cell_type": "markdown",
   "metadata": {},
   "source": [
    "<b>Gender</b>"
   ]
  },
  {
   "cell_type": "code",
   "execution_count": 12,
   "metadata": {},
   "outputs": [
    {
     "name": "stdout",
     "output_type": "stream",
     "text": [
      "NUMBER OF ERRORS: 0\n",
      "['male' 'female' 'fe-male']\n",
      "['male' 'female']\n"
     ]
    }
   ],
   "source": [
    "#convert to lower case to avoid issues with Male MALE male and whatnot\n",
    "conversion.convertToLower(censusData, 'Gender')\n",
    "\n",
    "#Now check if any data is missing from the Gender column\n",
    "censusData[~censusData['Gender'].str.contains('male|female')]\n",
    "\n",
    "#Relationship to head of house on record with no gender is son so can assume male\n",
    "censusData['Gender'][1881] = 'male'\n",
    "censusData.iloc[1881] #Check that is corrected\n",
    "#Looks good, convert the column to string now\n",
    "conversion.convertToString(censusData, 'Gender')\n",
    "\n",
    "#Check the unique values are reasonable\n",
    "print(censusData['Gender'].unique()) #fe-male needs dealing with\n",
    "\n",
    "#Correct values with fe-male\n",
    "censusData['Gender'].replace('fe-male', 'female', inplace = True)\n",
    "#Check correct\n",
    "print(censusData['Gender'].unique())\n"
   ]
  },
  {
   "cell_type": "markdown",
   "metadata": {},
   "source": [
    "<b>Religion</b>"
   ]
  },
  {
   "cell_type": "code",
   "execution_count": 13,
   "metadata": {},
   "outputs": [
    {
     "name": "stdout",
     "output_type": "stream",
     "text": [
      "['Intramystical' 'Not Applicable' 'None' 'Utheism' 'Triangulism'\n",
      " 'Septheism' 'Bioflow' 'Convergeance' 'Washer' 'Housekeeper' 'Nopenope']\n",
      "1\n",
      "2\n",
      "1\n",
      "['intramystical' 'not applicable' 'none' 'utheism' 'triangulism'\n",
      " 'septheism' 'bioflow' 'convergeance']\n"
     ]
    }
   ],
   "source": [
    "#Corrct NA Values to Not Applicable as reasonable answer\n",
    "censusData['Religion'].fillna(\"Not Applicable\", inplace = True) #Correct the prev missing values.\n",
    "#Check for blank spaces\n",
    "censusData[censusData['Religion'] == ' ']\n",
    "#Check unique values for religion are reasonable\n",
    "print(censusData['Religion'].unique())\n",
    "#Convert to lower\n",
    "conversion.convertToLower(censusData, 'Religion')\n",
    "#Washer, housekeeper and NopeNope could be religions but unlikely. \n",
    "\n",
    "#How many of each of these?\n",
    "washer = censusData['Religion'] == 'washer'\n",
    "print(washer.sum())\n",
    "#This wasnt a case of putting profession in religion, may be a lesser practiced religion?\n",
    "housekeeper = censusData['Religion'] == 'housekeeper'\n",
    "print(housekeeper.sum())\n",
    "#Check the record\n",
    "nope = censusData['Religion'] == 'nopenope'\n",
    "print(nope.sum())\n",
    "\n",
    "#It seems like the best options here are to use most occuring or Not Applicable \n",
    "#If they are going to fill it out with silly values then its likely religion is not applicable\n",
    "censusData['Religion'].replace(\"washer\", 'not applicable', inplace = True)\n",
    "censusData['Religion'].replace(\"housekeeper\", 'not applicable', inplace = True)\n",
    "censusData['Religion'].replace(\"nopenope\", 'not applicable', inplace = True)\n",
    "print(censusData['Religion'].unique())"
   ]
  },
  {
   "cell_type": "markdown",
   "metadata": {},
   "source": [
    "<b>Infirmity</b>"
   ]
  },
  {
   "cell_type": "code",
   "execution_count": 14,
   "metadata": {},
   "outputs": [
    {
     "name": "stdout",
     "output_type": "stream",
     "text": [
      "['None' 'Nudisease' 'Skygazer' 'Not Specified' 'Silly' 'Toothache']\n",
      "3\n",
      "2\n"
     ]
    }
   ],
   "source": [
    "#Fill missing values for Infirmity with Not Specified \n",
    "censusData['Infirmity'].replace(' ', 'Not Specified', inplace = True)\n",
    "#Check for blank space\n",
    "censusData[censusData['Infirmity'] == ' ']\n",
    "#Check reasonable values\n",
    "print(censusData['Infirmity'].unique())\n",
    "#Check how many silly and Toothache\n",
    "silly = censusData['Infirmity'] == 'Silly'\n",
    "toothache = censusData['Infirmity'] == 'Toothache'\n",
    "print(silly.sum())\n",
    "print(toothache.sum())\n",
    "#Multiple people have these issues, so they may be reasonable, will leave alone\n",
    "#Convert to lower\n",
    "conversion.convertToLower(censusData, 'Infirmity')"
   ]
  },
  {
   "cell_type": "markdown",
   "metadata": {},
   "source": [
    "<b>Relationship to Head of House</b>"
   ]
  },
  {
   "cell_type": "code",
   "execution_count": 15,
   "metadata": {},
   "outputs": [
    {
     "name": "stdout",
     "output_type": "stream",
     "text": [
      "['Head' 'Daughter' 'Husband' 'Son' 'None' 'Partner' 'Adopted Son' 'Lodger'\n",
      " 'Wife' 'Granddaughter' 'Grandson' 'Visitor' 'Cousin' 'Son-in-law'\n",
      " 'Adopted Daughter' 'Step-Daughter' 'Sibling' 'Step-Son' 'Nephew' 'Neice'\n",
      " ' ' 'Adopted Granddaughter' 'Daughter-in-law' 'Hus-band']\n",
      "['Head' 'Daughter' 'Husband' 'Son' 'None' 'Partner' 'Adopted Son' 'Lodger'\n",
      " 'Wife' 'Granddaughter' 'Grandson' 'Visitor' 'Cousin' 'Son-in-law'\n",
      " 'Adopted Daughter' 'Step-Daughter' 'Sibling' 'Step-Son' 'Nephew' 'Neice'\n",
      " ' ' 'Adopted Granddaughter' 'Daughter-in-law']\n"
     ]
    },
    {
     "data": {
      "text/html": [
       "<div>\n",
       "<style scoped>\n",
       "    .dataframe tbody tr th:only-of-type {\n",
       "        vertical-align: middle;\n",
       "    }\n",
       "\n",
       "    .dataframe tbody tr th {\n",
       "        vertical-align: top;\n",
       "    }\n",
       "\n",
       "    .dataframe thead th {\n",
       "        text-align: right;\n",
       "    }\n",
       "</style>\n",
       "<table border=\"1\" class=\"dataframe\">\n",
       "  <thead>\n",
       "    <tr style=\"text-align: right;\">\n",
       "      <th></th>\n",
       "      <th>House Number</th>\n",
       "      <th>Street</th>\n",
       "      <th>First Name</th>\n",
       "      <th>Surname</th>\n",
       "      <th>Age</th>\n",
       "      <th>Relationship to Head of House</th>\n",
       "      <th>Marital Status</th>\n",
       "      <th>Gender</th>\n",
       "      <th>Occupation</th>\n",
       "      <th>Infirmity</th>\n",
       "      <th>Religion</th>\n",
       "    </tr>\n",
       "  </thead>\n",
       "  <tbody>\n",
       "    <tr>\n",
       "      <th>2783</th>\n",
       "      <td>122</td>\n",
       "      <td>Gibson Street</td>\n",
       "      <td>Kathryn</td>\n",
       "      <td>Carter</td>\n",
       "      <td>32</td>\n",
       "      <td></td>\n",
       "      <td>single</td>\n",
       "      <td>female</td>\n",
       "      <td>Arts administrator</td>\n",
       "      <td>none</td>\n",
       "      <td>septheism</td>\n",
       "    </tr>\n",
       "  </tbody>\n",
       "</table>\n",
       "</div>"
      ],
      "text/plain": [
       "     House Number         Street First Name Surname Age  \\\n",
       "2783          122  Gibson Street    Kathryn  Carter  32   \n",
       "\n",
       "     Relationship to Head of House Marital Status  Gender          Occupation  \\\n",
       "2783                                       single  female  Arts administrator   \n",
       "\n",
       "     Infirmity   Religion  \n",
       "2783      none  septheism  "
      ]
     },
     "execution_count": 15,
     "metadata": {},
     "output_type": "execute_result"
    }
   ],
   "source": [
    "#Check for reasonable answers\n",
    "print(censusData['Relationship to Head of House'].unique()) \n",
    "#Hus-band needs dealing with\n",
    "censusData['Relationship to Head of House'].replace(\"Hus-band\", 'Husband', inplace = True)\n",
    "print(censusData['Relationship to Head of House'].unique()) \n",
    "#Convert to lower\n",
    "conversion.convertToLower(censusData, 'Relationship to Head of House')\n",
    "#Check for blank space\n",
    "censusData[censusData['Relationship to Head of House'] == ' ']\n"
   ]
  },
  {
   "cell_type": "code",
   "execution_count": 16,
   "metadata": {},
   "outputs": [
    {
     "name": "stdout",
     "output_type": "stream",
     "text": [
      "['head' 'daughter' 'husband' 'son' 'none' 'partner' 'adopted son' 'lodger'\n",
      " 'wife' 'granddaughter' 'grandson' 'visitor' 'cousin' 'son-in-law'\n",
      " 'adopted daughter' 'step-daughter' 'sibling' 'step-son' 'nephew' 'neice'\n",
      " 'adopted granddaughter' 'daughter-in-law']\n",
      "0\n"
     ]
    },
    {
     "data": {
      "text/html": [
       "<div>\n",
       "<style scoped>\n",
       "    .dataframe tbody tr th:only-of-type {\n",
       "        vertical-align: middle;\n",
       "    }\n",
       "\n",
       "    .dataframe tbody tr th {\n",
       "        vertical-align: top;\n",
       "    }\n",
       "\n",
       "    .dataframe thead th {\n",
       "        text-align: right;\n",
       "    }\n",
       "</style>\n",
       "<table border=\"1\" class=\"dataframe\">\n",
       "  <thead>\n",
       "    <tr style=\"text-align: right;\">\n",
       "      <th></th>\n",
       "      <th>House Number</th>\n",
       "      <th>Street</th>\n",
       "      <th>First Name</th>\n",
       "      <th>Surname</th>\n",
       "      <th>Age</th>\n",
       "      <th>Relationship to Head of House</th>\n",
       "      <th>Marital Status</th>\n",
       "      <th>Gender</th>\n",
       "      <th>Occupation</th>\n",
       "      <th>Infirmity</th>\n",
       "      <th>Religion</th>\n",
       "    </tr>\n",
       "  </thead>\n",
       "  <tbody>\n",
       "  </tbody>\n",
       "</table>\n",
       "</div>"
      ],
      "text/plain": [
       "Empty DataFrame\n",
       "Columns: [House Number, Street, First Name, Surname, Age, Relationship to Head of House, Marital Status, Gender, Occupation, Infirmity, Religion]\n",
       "Index: []"
      ]
     },
     "execution_count": 16,
     "metadata": {},
     "output_type": "execute_result"
    }
   ],
   "source": [
    "#Check who else lives at 122 Gibson Street\n",
    "censusData.loc[(censusData['House Number'] == 122) & (censusData['Street'] == 'Gibson Street')]\n",
    "#3 other people who have no relationship to head of house, likely Kathryn is Head as someone needs to be\n",
    "censusData['Relationship to Head of House'].replace(\" \", 'head', inplace = True)\n",
    "#Check unique values again\n",
    "print(censusData['Relationship to Head of House'].unique()) \n",
    "\n",
    "'''Should Visitors be removed? The actual census does ask you to include visitors however I am not sure\n",
    "under what context'''\n",
    "count = censusData['Relationship to Head of House'] == 'Visitor'\n",
    "print(count.sum())\n",
    "'''26 People have listed Visitors in their household so it seems fine to leave them in, \n",
    "Could maybe go further with this and check who those visitors are and if they match anyone else in the census in another\n",
    "household and then remove them so they arent duplicatad'''\n",
    "\n",
    "#Checking that head of household is over 18 \n",
    "isHeadofHousehold = censusData[censusData['Relationship to Head of House'].str.contains('Head|head')]\n",
    "isHeadofHousehold[isHeadofHousehold['Age']<18]\n",
    "#No records have anyone under 18 as the head of the household. "
   ]
  },
  {
   "cell_type": "markdown",
   "metadata": {},
   "source": [
    "<b>Occupation</b>"
   ]
  },
  {
   "cell_type": "code",
   "execution_count": 17,
   "metadata": {},
   "outputs": [],
   "source": [
    "conversion.convertToLower(censusData, 'Occupation')\n",
    "#Check Missing\n",
    "censusData[censusData['Occupation'] == ' ']\n",
    "#Two people with empty occupation, first is a child, second adult \n",
    "censusData['Occupation'][1924] = 'child'\n",
    "#I am unsure what to set the occupation as, student is the most common, however he is 42, so its less likely\n",
    "#Check most common occupation of others of a similar age\n",
    "similar = censusData.loc[(censusData['Age'].between(40, 44))]\n",
    "similar['Occupation'].mode()\n",
    "#fill with unemployed as most common occupation around that age range\n",
    "censusData['Occupation'][3887] = 'unemployed'"
   ]
  },
  {
   "cell_type": "markdown",
   "metadata": {},
   "source": [
    "<b>Street</b>"
   ]
  },
  {
   "cell_type": "code",
   "execution_count": 18,
   "metadata": {},
   "outputs": [
    {
     "name": "stdout",
     "output_type": "stream",
     "text": [
      "    House Number         Street First Name   Surname Age  \\\n",
      "762           11  dragons drive      Ellie  Reynolds  19   \n",
      "763           11                    Stuart  Reynolds  21   \n",
      "\n",
      "    Relationship to Head of House Marital Status  Gender          Occupation  \\\n",
      "762                          head        married  female  university student   \n",
      "763                       husband        married    male  university student   \n",
      "\n",
      "    Infirmity       Religion  \n",
      "762      none  intramystical  \n",
      "763      none           none  \n",
      "     House Number Street First Name Surname Age Relationship to Head of House  \\\n",
      "6840           24           Anthony  Morley  45                          head   \n",
      "\n",
      "     Marital Status Gender                    Occupation Infirmity  \\\n",
      "6840         single   male  research officer, government      none   \n",
      "\n",
      "           Religion  \n",
      "6840  intramystical  \n"
     ]
    },
    {
     "data": {
      "text/html": [
       "<div>\n",
       "<style scoped>\n",
       "    .dataframe tbody tr th:only-of-type {\n",
       "        vertical-align: middle;\n",
       "    }\n",
       "\n",
       "    .dataframe tbody tr th {\n",
       "        vertical-align: top;\n",
       "    }\n",
       "\n",
       "    .dataframe thead th {\n",
       "        text-align: right;\n",
       "    }\n",
       "</style>\n",
       "<table border=\"1\" class=\"dataframe\">\n",
       "  <thead>\n",
       "    <tr style=\"text-align: right;\">\n",
       "      <th></th>\n",
       "      <th>House Number</th>\n",
       "      <th>Street</th>\n",
       "      <th>First Name</th>\n",
       "      <th>Surname</th>\n",
       "      <th>Age</th>\n",
       "      <th>Relationship to Head of House</th>\n",
       "      <th>Marital Status</th>\n",
       "      <th>Gender</th>\n",
       "      <th>Occupation</th>\n",
       "      <th>Infirmity</th>\n",
       "      <th>Religion</th>\n",
       "    </tr>\n",
       "  </thead>\n",
       "  <tbody>\n",
       "  </tbody>\n",
       "</table>\n",
       "</div>"
      ],
      "text/plain": [
       "Empty DataFrame\n",
       "Columns: [House Number, Street, First Name, Surname, Age, Relationship to Head of House, Marital Status, Gender, Occupation, Infirmity, Religion]\n",
       "Index: []"
      ]
     },
     "execution_count": 18,
     "metadata": {},
     "output_type": "execute_result"
    }
   ],
   "source": [
    "conversion.convertToLower(censusData, 'Street')\n",
    "#Check Missing\n",
    "censusData[censusData['Street'] == ' ']\n",
    "#House number 11, Surname Reynolds, Married, husband, and 24, Anthony Morely,head, 6840\n",
    "streetMaybe = censusData.loc[(censusData['Surname'] == 'Reynolds')&(censusData['House Number'] == 11)]\n",
    "print(streetMaybe)\n",
    "#Looks like Dragons Drive is the correct street\n",
    "censusData['Street'][763] = 'dragons drive'\n",
    "streetMaybe2 = censusData.loc[(censusData['Surname'] == 'Morley')&(censusData['House Number'] == 24)]\n",
    "print(streetMaybe2)\n",
    "#Anthony lives alone so no way to tell what street, no children at address, no way to  correct it\n",
    "#However data in street and house number order so we can look at what is before and after. \n",
    "censusData.iloc[6839]\n",
    "censusData.iloc[6841]\n",
    "#Both before and after are albans avenue\n",
    "censusData['Street'][6840] = 'albans avenue'\n",
    "censusData[censusData['Street'] == ' ']"
   ]
  },
  {
   "cell_type": "markdown",
   "metadata": {},
   "source": [
    "<b>First Name</b>"
   ]
  },
  {
   "cell_type": "code",
   "execution_count": 19,
   "metadata": {},
   "outputs": [],
   "source": [
    "conversion.convertToLower(censusData, 'First Name')\n",
    "#Check for empty space\n",
    "censusData[censusData['First Name'] == ' ']\n",
    "#Delete empty name records\n",
    "censusData.drop(index = [637, 6902], inplace = True)\n",
    "censusData.reset_index(drop = True, inplace = True)"
   ]
  },
  {
   "cell_type": "markdown",
   "metadata": {},
   "source": [
    "<b>Surname</b>"
   ]
  },
  {
   "cell_type": "code",
   "execution_count": 20,
   "metadata": {},
   "outputs": [
    {
     "name": "stdout",
     "output_type": "stream",
     "text": [
      "     House Number        Street First Name  Surname Age  \\\n",
      "7825           46  truro common   beverley  harding  32   \n",
      "7826           46  truro common    francis  harding  40   \n",
      "7827           46  truro common    raymond    davis  13   \n",
      "7828           46  truro common     damian    davis  10   \n",
      "7829           46  truro common     amanda            8   \n",
      "\n",
      "     Relationship to Head of House  Marital Status  Gender         Occupation  \\\n",
      "7825                          head         married  female        ship broker   \n",
      "7826                       husband         married    male  personnel officer   \n",
      "7827                           son  not applicable    male            student   \n",
      "7828                           son  not applicable    male            student   \n",
      "7829                      daughter  not applicable  female            student   \n",
      "\n",
      "     Infirmity        Religion  \n",
      "7825      none            none  \n",
      "7826      none            none  \n",
      "7827      none  not applicable  \n",
      "7828      none  not applicable  \n",
      "7829      none  not applicable  \n"
     ]
    }
   ],
   "source": [
    "conversion.convertToLower(censusData, 'Surname')\n",
    "#Check for empty\n",
    "censusData[censusData['Surname'] == ' ']\n",
    "#46 truro common, amanda aged 8 missing a surname, find whoever lives at her house and see if its likely they share a name\n",
    "surnames = censusData.loc[(censusData['House Number'] == 46)&(censusData['Street'] == 'truro common')]\n",
    "print(surnames)\n",
    "#Looks to be one family where the parents have a different surname from the children, their surname could be either\n",
    "censusData['Surname'].iloc[7829] = 'davis'"
   ]
  },
  {
   "cell_type": "markdown",
   "metadata": {},
   "source": [
    "<b>Convert to strings</b>"
   ]
  },
  {
   "cell_type": "code",
   "execution_count": 21,
   "metadata": {},
   "outputs": [
    {
     "name": "stdout",
     "output_type": "stream",
     "text": [
      "NUMBER OF ERRORS: 0\n",
      "NUMBER OF ERRORS: 0\n",
      "NUMBER OF ERRORS: 0\n",
      "NUMBER OF ERRORS: 0\n",
      "NUMBER OF ERRORS: 0\n",
      "NUMBER OF ERRORS: 0\n",
      "NUMBER OF ERRORS: 0\n",
      "NUMBER OF ERRORS: 0\n",
      "NUMBER OF ERRORS: 0\n"
     ]
    },
    {
     "data": {
      "text/plain": [
       "[]"
      ]
     },
     "execution_count": 21,
     "metadata": {},
     "output_type": "execute_result"
    }
   ],
   "source": [
    "conversion.convertToString(censusData, 'Street')\n",
    "conversion.convertToString(censusData, 'First Name')\n",
    "conversion.convertToString(censusData, 'Surname')\n",
    "conversion.convertToString(censusData, 'Relationship to Head of House')\n",
    "conversion.convertToString(censusData, 'Marital Status')\n",
    "conversion.convertToString(censusData, 'Gender')\n",
    "conversion.convertToString(censusData, 'Occupation')\n",
    "conversion.convertToString(censusData, 'Infirmity')\n",
    "conversion.convertToString(censusData, 'Religion')"
   ]
  },
  {
   "cell_type": "markdown",
   "metadata": {},
   "source": [
    "## Step Three -  Analyzing the Data"
   ]
  },
  {
   "cell_type": "markdown",
   "metadata": {},
   "source": [
    "This step is split up into multiple parts; Age, Religion, Marriage, Housing, Student Data, Unemployment Data. \n",
    "There may also be some overlap in these areas. "
   ]
  },
  {
   "cell_type": "markdown",
   "metadata": {},
   "source": [
    "<b>Age</b>"
   ]
  },
  {
   "cell_type": "code",
   "execution_count": 22,
   "metadata": {},
   "outputs": [
    {
     "name": "stdout",
     "output_type": "stream",
     "text": [
      "The Average age is: 35.96795480217304\n",
      "The most commonly occuring age is: 0    40\n",
      "dtype: object\n",
      "Amount of people born this year: 83\n",
      "Birth rate per 100,000 population is 1043.7625754527164\n",
      "Previous year's birth rate is 1056.3380281690143\n",
      "The Birth Rate 2 Years ago was 993.4607645875252\n",
      "Previous year's birth rate is 1056.3380281690143\n",
      "The Birth Rate 3 Years ago was 1119.2152917505032\n",
      "The birth rate for this year is -1.1904761904761947% different from last year\n",
      "The difference between the last two years birth rates is 6.329113924050644%\n",
      "The amount of school aged children is: 1795\n",
      "The percentage of people in the cenus who are aged to be at school: 22.572937625754527%\n",
      "The amount of elders: 981\n",
      "Percentage of elders in this census: 12.336519114688128%\n",
      "In the next census there will be aprox 789 more elders\n",
      "Percentage of new elders over next 10 years9.922032193158953%\n",
      "Number of people likely to die soon: 195\n"
     ]
    }
   ],
   "source": [
    "#Calculate the average age\n",
    "averageAge = censusData['Age'].mean()\n",
    "print(f'The Average age is: {averageAge}')\n",
    "\n",
    "#Find the most commonly occuring age\n",
    "modeAge = censusData['Age'].mode()\n",
    "print(f'The most commonly occuring age is: {modeAge}')\n",
    "\n",
    "#The Number of people born this year\n",
    "underOne = censusData['Age'] < 1\n",
    "print(f'Amount of people born this year: {underOne.sum()}')\n",
    "#Birth Rate per 100,000 pop \n",
    "multiplier = 100000/len(censusData)\n",
    "birthRate = underOne.sum()*multiplier\n",
    "print(f'Birth rate per 100,000 population is {birthRate}')\n",
    "#Number of people born prev year\n",
    "oneToTwo = censusData['Age'].between(1,1.9)\n",
    "prevBirthRate = oneToTwo.sum()*multiplier\n",
    "print(f\"Previous year's birth rate is {prevBirthRate}\")\n",
    "#Number of people born 2 years ago \n",
    "twoToThree = censusData['Age'].between(2, 2.9)\n",
    "twoPrevBirthRate = twoToThree.sum()*multiplier\n",
    "print(f\"The Birth Rate 2 Years ago was {twoPrevBirthRate}\")\n",
    "print(f\"Previous year's birth rate is {prevBirthRate}\")\n",
    "#Number of people born 3 years ago \n",
    "threeToFour = censusData['Age'].between(3, 3.9)\n",
    "threePrevBirthRate = threeToFour.sum()*multiplier\n",
    "print(f\"The Birth Rate 3 Years ago was {threePrevBirthRate}\")\n",
    "#BirthRate Difference \n",
    "diff = birthRate - prevBirthRate\n",
    "pcDiff = (diff/prevBirthRate)*100\n",
    "print(f'The birth rate for this year is {pcDiff}% different from last year')\n",
    "prevDiff = prevBirthRate - twoPrevBirthRate\n",
    "pcPrevDiff = (prevDiff/twoPrevBirthRate)*100\n",
    "print(f'The difference between the last two years birth rates is {pcPrevDiff}%')\n",
    "\n",
    "#Amount of School/College Aged children\n",
    "schoolAged = censusData['Age']<=16\n",
    "print(f'The amount of school aged children is: {schoolAged.sum()}')\n",
    "#Percentage of School aged children\n",
    "pcSchoolAged = (schoolAged.sum()/len(censusData))*100\n",
    "print(f'The percentage of people in the cenus who are aged to be at school: {pcSchoolAged}%')\n",
    "\n",
    "'''Calculate the percent of population that are elders, basing the definition of elders off the current state \n",
    "pension age in the UK, This does not mean that they are retired, you can keep working after this age, 63 for women and 65\n",
    "for men, so for the sake of this I will use 64 for the pension age'''\n",
    "elderAged = censusData['Age']>= 64\n",
    "print(f'The amount of elders: {elderAged.sum()}')\n",
    "pcElder = (elderAged.sum()/len(censusData))*100\n",
    "print(f'Percentage of elders in this census: {pcElder}%')\n",
    "#Want to see how many elders at next  census aprox, happens every 10 years, so from 54-64\n",
    "newElders = censusData['Age'].between(54, 64)\n",
    "print(f'In the next census there will be aprox {newElders.sum()} more elders')\n",
    "pcNewElder = (newElders.sum()/len(censusData))*100\n",
    "print(f'Percentage of new elders over next 10 years{pcNewElder}%')\n",
    "\n",
    "#uk average age of death is 81.16\n",
    "deathCandidates = censusData['Age'] >= 81\n",
    "print(f'Number of people likely to die soon: {deathCandidates.sum()}')\n"
   ]
  },
  {
   "cell_type": "markdown",
   "metadata": {},
   "source": [
    "<b>Religion</b>"
   ]
  },
  {
   "cell_type": "code",
   "execution_count": 23,
   "metadata": {},
   "outputs": [
    {
     "name": "stdout",
     "output_type": "stream",
     "text": [
      "The most common religion is: 0    none\n",
      "dtype: object\n",
      "Number of people per religion in census: \n",
      "none              2660\n",
      "not applicable    2124\n",
      "intramystical     1754\n",
      "triangulism        860\n",
      "utheism            375\n",
      "septheism          109\n",
      "convergeance        38\n",
      "bioflow             32\n",
      "Name: Religion, dtype: int64\n",
      "Each Religion as a percentage of census participants: \n",
      "None : 33.45070422535211\n",
      "Not Applicable : 26.7102615694165\n",
      "Intramystical : 22.057344064386317\n",
      "Triangulism : 10.814889336016096\n",
      "Utheism : 4.715794768611669\n",
      "Septheism : 1.3707243460764587\n",
      "Convergence : 0.4778672032193159\n",
      "Bioflow : 0.4024144869215292\n",
      "Marriages per religion: \n",
      "none              1097\n",
      "intramystical      635\n",
      "triangulism        308\n",
      "utheism            152\n",
      "not applicable      70\n",
      "septheism           32\n",
      "convergeance        10\n",
      "bioflow              8\n",
      "Name: Religion, dtype: int64\n",
      "Children per Religion: \n",
      "not applicable    1956\n",
      "none                46\n",
      "intramystical       27\n",
      "triangulism         17\n",
      "utheism              3\n",
      "septheism            2\n",
      "Name: Religion, dtype: int64\n",
      "Unmarried by Religion: \n",
      "not applicable    2054\n",
      "none              1563\n",
      "intramystical     1119\n",
      "triangulism        552\n",
      "utheism            223\n",
      "septheism           77\n",
      "convergeance        28\n",
      "bioflow             24\n",
      "Name: Religion, dtype: int64\n"
     ]
    }
   ],
   "source": [
    "#Most common religion\n",
    "mostCommon = censusData['Religion'].mode()\n",
    "print(f'The most common religion is: {mostCommon}')\n",
    "\n",
    "#Religion by count\n",
    "religionNumbers = censusData['Religion'].value_counts()\n",
    "print(f'Number of people per religion in census: \\n{religionNumbers}')\n",
    "\n",
    "#religion as percentage of pop\n",
    "religion = ['None', 'Not Applicable', 'Intramystical', 'Triangulism', 'Utheism', 'Septheism', 'Convergence', 'Bioflow']\n",
    "print('Each Religion as a percentage of census participants: ')\n",
    "for i in range(len(religionNumbers)):\n",
    "    pc = (religionNumbers[i]/len(censusData))*100\n",
    "    print(f'{religion[i]} : {pc}')\n",
    "    \n",
    "#Marriages per religion \n",
    "isMarried = censusData[censusData['Marital Status'].str.contains('married')]\n",
    "religionOfMarried = isMarried['Religion'].value_counts()\n",
    "print(f'Marriages per religion: \\n{religionOfMarried}')\n",
    "\n",
    "#Children Per Religion\n",
    "isChild = censusData[censusData['Age'] <= 18]\n",
    "childByReligion = isChild['Religion'].value_counts()\n",
    "print(f'Children per Religion: \\n{childByReligion}')\n",
    "\n",
    "#Unmarried people per religion \n",
    "unmarried = censusData[censusData['Marital Status'].str.contains('single|divorced|widowed|not applicable')]\n",
    "unmarriedByReligion = unmarried['Religion'].value_counts()\n",
    "print(f'Unmarried by Religion: \\n{unmarriedByReligion}')"
   ]
  },
  {
   "cell_type": "markdown",
   "metadata": {},
   "source": [
    "<b>Marriage</b>"
   ]
  },
  {
   "cell_type": "code",
   "execution_count": 24,
   "metadata": {},
   "outputs": [
    {
     "name": "stdout",
     "output_type": "stream",
     "text": [
      "Number of people married: 2312\n",
      "Percentage of census participants married: 29.074446680080484\n",
      "Percentage of the Pop married per 100,000: 29074.446680080484\n",
      "The average age of someone married is: 50.88013087043253\n",
      "Number of people Divorced: 731\n",
      "Percentage of census participants divorced: 9.192655935613683\n",
      "The average age of someone divorced is: 42.224350205198355\n",
      "Number of people Widowed: 334\n"
     ]
    }
   ],
   "source": [
    "#Calculate the number of people married\n",
    "numberOfPeopleMarried = censusData['Marital Status'].str.contains('married')\n",
    "print(f'Number of people married: {numberOfPeopleMarried.sum()}')\n",
    "\n",
    "#Calculate percentage of people married\n",
    "pcMarried = (numberOfPeopleMarried.sum()/len(censusData))*100\n",
    "print(f'Percentage of census participants married: {pcMarried}')\n",
    "\n",
    "#Calculate the percentage of population married\n",
    "pcPopMarried= numberOfPeopleMarried.sum()*multiplier\n",
    "print(f'Percentage of the Pop married per 100,000: {pcPopMarried}')\n",
    "\n",
    "#Calculate the average age of married people \n",
    "isMarried = censusData[censusData['Marital Status'].str.contains('married')]\n",
    "agesOfMarried = isMarried['Age']\n",
    "print(f'The average age of someone married is: {agesOfMarried.mean()}')\n",
    "\n",
    "#Calculate the amount of children per marriage\n",
    "#TODO - NEED TO LOOK AT RELATIONSHIP TO HEAD OF HOUSE TO DETERMINE THE AMOUNT OF CHILDREN\n",
    "\n",
    "#Calculate the amount of people Divorced\n",
    "numberDivorced = censusData['Marital Status'].str.contains('divorced')\n",
    "print(f'Number of people Divorced: {numberDivorced.sum()}')\n",
    "\n",
    "#Percentage of people divorced\n",
    "pcDivorced = (numberDivorced.sum()/len(censusData))*100\n",
    "print(f'Percentage of census participants divorced: {pcDivorced}')\n",
    "\n",
    "#Calculate the average age of someone divorced\n",
    "isDivorced = censusData[censusData['Marital Status'].str.contains('divorced')]\n",
    "agesOfDivorced = isDivorced['Age']\n",
    "print(f'The average age of someone divorced is: {agesOfDivorced.mean()}')\\\n",
    "\n",
    "#Number of people widowed\n",
    "numberWidowed = censusData['Marital Status'].str.contains('widowed')\n",
    "print(f'Number of people Widowed: {numberWidowed.sum()}')\n"
   ]
  },
  {
   "cell_type": "markdown",
   "metadata": {},
   "source": [
    "<b>Housing</b>"
   ]
  },
  {
   "cell_type": "code",
   "execution_count": 25,
   "metadata": {
    "scrolled": true
   },
   "outputs": [
    {
     "name": "stdout",
     "output_type": "stream",
     "text": [
      "NUMBER OF ERRORS: 0\n",
      "Number of people per street: \n",
      "gibson street       696\n",
      "albert road         385\n",
      "willow plain        379\n",
      "cancer avenue       298\n",
      "lloyd estates       297\n",
      "                   ... \n",
      "violet lodge          5\n",
      "roberts lodge         4\n",
      "baker cabin           3\n",
      "paper lighthouse      3\n",
      "cox citadel           1\n",
      "Name: Street, Length: 94, dtype: int64\n",
      "Number of people per address: \n",
      "1st.mark keep         22\n",
      "1henderson mission    20\n",
      "1equinox islands      12\n",
      "1bennett windmill     12\n",
      "4stirling loaf        12\n",
      "                      ..\n",
      "50hudson roads         1\n",
      "5hereford row          1\n",
      "80hudson roads         1\n",
      "21hangar drive         1\n",
      "16causeway street      1\n",
      "Name: Address, Length: 2898, dtype: int64\n",
      "Average amount of people per address: \n",
      "2.743961352657005\n"
     ]
    }
   ],
   "source": [
    "#Calculate the streets with the most houses\n",
    "housing = censusData #Create a copy of censusData\n",
    "conversion.convertToString(housing, 'House Number') #convert to str so can be combined\n",
    "housing['Address'] = housing['House Number'] + housing['Street']\n",
    "streets = housing['Street'].value_counts()\n",
    "\n",
    "#Number of people per street\n",
    "print(f'Number of people per street: \\n{streets}')\n",
    "\n",
    "#Number of people per housse\n",
    "houses = housing['Address'].value_counts()\n",
    "print(f'Number of people per address: \\n{houses}')\n",
    "\n",
    "#Average number of people per house\n",
    "avgHouseOccupancy = houses.mean()\n",
    "print(f'Average amount of people per address: \\n{avgHouseOccupancy}')\n",
    "\n",
    "#Calculate Streets with highest amount of people per house "
   ]
  },
  {
   "cell_type": "markdown",
   "metadata": {},
   "source": [
    "<b>Students</b>"
   ]
  },
  {
   "cell_type": "code",
   "execution_count": 26,
   "metadata": {},
   "outputs": [
    {
     "name": "stdout",
     "output_type": "stream",
     "text": [
      "2091\n",
      "Number of uni aged students: 602\n",
      "Percentage of census participants who are uni aged students: 7.570422535211267%\n"
     ]
    }
   ],
   "source": [
    "#Amount of students\n",
    "noOfStudents = censusData['Occupation'].str.contains('student')\n",
    "print(noOfStudents.sum())\n",
    "\n",
    "#Amount of students of university age\n",
    "students = censusData[censusData['Occupation'].str.contains('student')]\n",
    "uniAgeStudents = students['Age'] >= 18\n",
    "print(f'Number of uni aged students: {uniAgeStudents.sum()}')\n",
    "\n",
    "#Students as a percentage of the population\n",
    "uniStudentPc = (uniAgeStudents.sum()/len(censusData))*100\n",
    "print(f'Percentage of census participants who are uni aged students: {uniStudentPc}%')"
   ]
  },
  {
   "cell_type": "markdown",
   "metadata": {},
   "source": [
    "<b>Unemployment</b>"
   ]
  },
  {
   "cell_type": "code",
   "execution_count": 27,
   "metadata": {},
   "outputs": [
    {
     "name": "stdout",
     "output_type": "stream",
     "text": [
      "No of people unemployed: 529\n",
      "Percentage of census participants who are unemployed : 6.652414486921529%\n",
      "Percentage of pop per 100,000: 6.652414486921529%\n"
     ]
    }
   ],
   "source": [
    "#amount of unemployed\n",
    "noUnemployed = censusData['Occupation'].str.contains('unemployed')\n",
    "print(f'No of people unemployed: {noUnemployed.sum()}')\n",
    "#percentage of pop unemployed\n",
    "unemployedPc = (noUnemployed.sum()/len(censusData))*100\n",
    "print(f'Percentage of census participants who are unemployed : {unemployedPc}%')\n",
    "popUnemployed = noUnemployed.sum()*multiplier\n",
    "pcPopUnemployed = (popUnemployed/100000)*100\n",
    "print(f'Percentage of pop per 100,000: {pcPopUnemployed}%')\n",
    "\n",
    "#Careers \n",
    "#Employed, Unemployed, Student, Retired, Child\n",
    "employed = censusData[~censusData['Occupation'].str.contains('unemployed|student|child|retired')]\n",
    "retired = censusData['Occupation'].str.contains('retired')\n",
    "child = censusData['Occupation'].str.contains('child')\n",
    "\n",
    "employedCount = employed['Occupation'].count()\n",
    "unemployedCount = noUnemployed.sum()\n",
    "retiredCount = retired.sum()\n",
    "studentCount = noOfStudents.sum()\n",
    "childCount = child.sum()"
   ]
  },
  {
   "cell_type": "markdown",
   "metadata": {},
   "source": [
    "## Step 4 - Visualization"
   ]
  },
  {
   "cell_type": "markdown",
   "metadata": {},
   "source": [
    "<b>Age</b>"
   ]
  },
  {
   "cell_type": "code",
   "execution_count": 28,
   "metadata": {},
   "outputs": [
    {
     "name": "stdout",
     "output_type": "stream",
     "text": [
      "[83, 84, 79, 89]\n"
     ]
    },
    {
     "data": {
      "text/plain": [
       "<AxesSubplot:>"
      ]
     },
     "execution_count": 28,
     "metadata": {},
     "output_type": "execute_result"
    },
    {
     "data": {
      "image/png": "[encoded data removed]",
      "text/plain": [
       "<Figure size 432x288 with 1 Axes>"
      ]
     },
     "metadata": {
      "needs_background": "light"
     },
     "output_type": "display_data"
    }
   ],
   "source": [
    "#Births over last few years\n",
    "x = [underOne.sum(), oneToTwo.sum(), twoToThree.sum(), threeToFour.sum()]\n",
    "y = ['This Year', 'Last Year', 'Two Years Ago', 'Three Years Ago']\n",
    "print(x)\n",
    "sns.barplot(x = y, y = x)"
   ]
  },
  {
   "cell_type": "code",
   "execution_count": 29,
   "metadata": {},
   "outputs": [
    {
     "data": {
      "image/png": "[encoded data removed]",
      "text/plain": [
       "<Figure size 360x360 with 1 Axes>"
      ]
     },
     "metadata": {
      "needs_background": "light"
     },
     "output_type": "display_data"
    }
   ],
   "source": [
    "#Ages of the population\n",
    "ages = sns.displot(censusData, x='Age', bins = 10, shrink = .9)\n",
    "#Binwidth of 10 to make it easier to see whilst maintaining how easy it is to understand\n"
   ]
  },
  {
   "cell_type": "code",
   "execution_count": 30,
   "metadata": {},
   "outputs": [
    {
     "data": {
      "text/plain": [
       "<seaborn.axisgrid.FacetGrid at 0x17679336088>"
      ]
     },
     "execution_count": 30,
     "metadata": {},
     "output_type": "execute_result"
    },
    {
     "data": {
      "image/png": "[encoded data removed]",
      "text/plain": [
       "<Figure size 430.5x360 with 1 Axes>"
      ]
     },
     "metadata": {
      "needs_background": "light"
     },
     "output_type": "display_data"
    }
   ],
   "source": [
    "#Ages by Gender\n",
    "sns.displot(censusData, x='Age', hue='Gender', bins = 10, shrink = .9, multiple = 'dodge')"
   ]
  },
  {
   "cell_type": "code",
   "execution_count": null,
   "metadata": {},
   "outputs": [],
   "source": []
  },
  {
   "cell_type": "markdown",
   "metadata": {},
   "source": [
    "<b>Marital Status</b>"
   ]
  },
  {
   "cell_type": "code",
   "execution_count": 31,
   "metadata": {},
   "outputs": [
    {
     "data": {
      "image/png": "[encoded data removed]",
      "text/plain": [
       "<Figure size 360x360 with 1 Axes>"
      ]
     },
     "metadata": {
      "needs_background": "light"
     },
     "output_type": "display_data"
    }
   ],
   "source": [
    "#Marital Status'\n",
    "maritalStatus = sns.displot(censusData, x='Marital Status', shrink = .9)"
   ]
  },
  {
   "cell_type": "code",
   "execution_count": 32,
   "metadata": {},
   "outputs": [
    {
     "data": {
      "text/plain": [
       "<seaborn.axisgrid.FacetGrid at 0x1767944c648>"
      ]
     },
     "execution_count": 32,
     "metadata": {},
     "output_type": "execute_result"
    },
    {
     "data": {
      "image/png": "[encoded data removed]",
      "text/plain": [
       "<Figure size 466.625x360 with 1 Axes>"
      ]
     },
     "metadata": {
      "needs_background": "light"
     },
     "output_type": "display_data"
    }
   ],
   "source": [
    "#Marital Status vs age\n",
    "sns.displot(censusData, x = 'Age', hue = 'Marital Status', bins = 10, shrink = .9 , multiple = 'dodge')"
   ]
  },
  {
   "cell_type": "markdown",
   "metadata": {},
   "source": [
    "<b>Religion</b>"
   ]
  },
  {
   "cell_type": "code",
   "execution_count": 33,
   "metadata": {},
   "outputs": [
    {
     "data": {
      "text/plain": [
       "<seaborn.axisgrid.FacetGrid at 0x17670ac8a88>"
      ]
     },
     "execution_count": 33,
     "metadata": {},
     "output_type": "execute_result"
    },
    {
     "data": {
      "image/png": "[encoded data removed]",
      "text/plain": [
       "<Figure size 466.625x360 with 1 Axes>"
      ]
     },
     "metadata": {
      "needs_background": "light"
     },
     "output_type": "display_data"
    }
   ],
   "source": [
    "sns.displot(censusData, x = 'Age', hue = 'Religion', bins = 10, multiple = \"dodge\")"
   ]
  },
  {
   "cell_type": "code",
   "execution_count": 34,
   "metadata": {},
   "outputs": [
    {
     "data": {
      "text/plain": [
       "<seaborn.axisgrid.FacetGrid at 0x1767956db48>"
      ]
     },
     "execution_count": 34,
     "metadata": {},
     "output_type": "execute_result"
    },
    {
     "data": {
      "image/png": "[encoded data removed]",
      "text/plain": [
       "<Figure size 360x360 with 1 Axes>"
      ]
     },
     "metadata": {
      "needs_background": "light"
     },
     "output_type": "display_data"
    }
   ],
   "source": [
    "#amount of people per religion\n",
    "sns.displot(censusData, x = 'Religion', shrink = .5)"
   ]
  },
  {
   "cell_type": "code",
   "execution_count": 35,
   "metadata": {},
   "outputs": [
    {
     "data": {
      "text/plain": [
       "<seaborn.axisgrid.FacetGrid at 0x1767a72b188>"
      ]
     },
     "execution_count": 35,
     "metadata": {},
     "output_type": "execute_result"
    },
    {
     "data": {
      "image/png": "[encoded data removed]",
      "text/plain": [
       "<Figure size 466.625x360 with 1 Axes>"
      ]
     },
     "metadata": {
      "needs_background": "light"
     },
     "output_type": "display_data"
    }
   ],
   "source": [
    "#Married pepole per religion\n",
    "sns.displot(censusData, x = 'Marital Status', shrink = .8, hue = 'Religion', multiple = \"dodge\")"
   ]
  },
  {
   "cell_type": "markdown",
   "metadata": {},
   "source": [
    "<b>Employment</b>"
   ]
  },
  {
   "cell_type": "code",
   "execution_count": 36,
   "metadata": {},
   "outputs": [
    {
     "data": {
      "text/plain": [
       "<AxesSubplot:>"
      ]
     },
     "execution_count": 36,
     "metadata": {},
     "output_type": "execute_result"
    },
    {
     "data": {
      "image/png": "[encoded data removed]",
      "text/plain": [
       "<Figure size 432x288 with 1 Axes>"
      ]
     },
     "metadata": {
      "needs_background": "light"
     },
     "output_type": "display_data"
    }
   ],
   "source": [
    "x = [employedCount, unemployedCount, retiredCount, childCount, studentCount]\n",
    "y = ['Employed', 'Unemployed', 'Retired', 'Child', 'Student']\n",
    "sns.barplot(x = y, y = x)"
   ]
  },
  {
   "cell_type": "code",
   "execution_count": null,
   "metadata": {},
   "outputs": [],
   "source": []
  }
 ],
 "metadata": {
  "kernelspec": {
   "display_name": "Python 3",
   "language": "python",
   "name": "python3"
  },
  "language_info": {
   "codemirror_mode": {
    "name": "ipython",
    "version": 3
   },
   "file_extension": ".py",
   "mimetype": "text/x-python",
   "name": "python",
   "nbconvert_exporter": "python",
   "pygments_lexer": "ipython3",
   "version": "3.7.9"
  }
 },
 "nbformat": 4,
 "nbformat_minor": 4
}
